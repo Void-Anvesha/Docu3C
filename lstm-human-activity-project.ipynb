{
 "cells": [
  {
   "cell_type": "code",
   "execution_count": 3,
   "id": "202e3cfb",
   "metadata": {
    "execution": {
     "iopub.execute_input": "2025-05-23T13:56:25.590115Z",
     "iopub.status.busy": "2025-05-23T13:56:25.589934Z",
     "iopub.status.idle": "2025-05-23T13:56:38.884893Z",
     "shell.execute_reply": "2025-05-23T13:56:38.884295Z"
    },
    "papermill": {
     "duration": 13.299062,
     "end_time": "2025-05-23T13:56:38.886130",
     "exception": false,
     "start_time": "2025-05-23T13:56:25.587068",
     "status": "completed"
    },
    "tags": []
   },
   "outputs": [
    {
     "name": "stderr",
     "output_type": "stream",
     "text": [
      "2025-05-23 13:56:28.126545: E external/local_xla/xla/stream_executor/cuda/cuda_fft.cc:477] Unable to register cuFFT factory: Attempting to register factory for plugin cuFFT when one has already been registered\n",
      "WARNING: All log messages before absl::InitializeLog() is called are written to STDERR\n",
      "E0000 00:00:1748008588.337200      19 cuda_dnn.cc:8310] Unable to register cuDNN factory: Attempting to register factory for plugin cuDNN when one has already been registered\n",
      "E0000 00:00:1748008588.390829      19 cuda_blas.cc:1418] Unable to register cuBLAS factory: Attempting to register factory for plugin cuBLAS when one has already been registered\n"
     ]
    }
   ],
   "source": [
    "import pandas as pd\n",
    "from sklearn.preprocessing import LabelEncoder, MinMaxScaler\n",
    "import tensorflow as tf\n",
    "from tensorflow.keras.models import Sequential\n",
    "from tensorflow.keras.layers import LSTM, Dense, Dropout\n",
    "import matplotlib.pyplot as plt"
   ]
  },
  {
   "cell_type": "code",
   "execution_count": null,
   "id": "5b255414",
   "metadata": {
    "execution": {
     "iopub.execute_input": "2025-05-23T13:56:38.891770Z",
     "iopub.status.busy": "2025-05-23T13:56:38.891378Z",
     "iopub.status.idle": "2025-05-23T13:56:40.458844Z",
     "shell.execute_reply": "2025-05-23T13:56:40.457934Z"
    },
    "papermill": {
     "duration": 1.571646,
     "end_time": "2025-05-23T13:56:40.460258",
     "exception": false,
     "start_time": "2025-05-23T13:56:38.888612",
     "status": "completed"
    },
    "tags": []
   },
   "outputs": [
    {
     "name": "stdout",
     "output_type": "stream",
     "text": [
      "   tBodyAcc-mean()-X  tBodyAcc-mean()-Y  tBodyAcc-mean()-Z  tBodyAcc-std()-X  \\\n",
      "0           0.288585          -0.020294          -0.132905         -0.995279   \n",
      "1           0.278419          -0.016411          -0.123520         -0.998245   \n",
      "2           0.279653          -0.019467          -0.113462         -0.995380   \n",
      "3           0.279174          -0.026201          -0.123283         -0.996091   \n",
      "4           0.276629          -0.016570          -0.115362         -0.998139   \n",
      "\n",
      "   tBodyAcc-std()-Y  tBodyAcc-std()-Z  tBodyAcc-mad()-X  tBodyAcc-mad()-Y  \\\n",
      "0         -0.983111         -0.913526         -0.995112         -0.983185   \n",
      "1         -0.975300         -0.960322         -0.998807         -0.974914   \n",
      "2         -0.967187         -0.978944         -0.996520         -0.963668   \n",
      "3         -0.983403         -0.990675         -0.997099         -0.982750   \n",
      "4         -0.980817         -0.990482         -0.998321         -0.979672   \n",
      "\n",
      "   tBodyAcc-mad()-Z  tBodyAcc-max()-X  ...  fBodyBodyGyroJerkMag-kurtosis()  \\\n",
      "0         -0.923527         -0.934724  ...                        -0.710304   \n",
      "1         -0.957686         -0.943068  ...                        -0.861499   \n",
      "2         -0.977469         -0.938692  ...                        -0.760104   \n",
      "3         -0.989302         -0.938692  ...                        -0.482845   \n",
      "4         -0.990441         -0.942469  ...                        -0.699205   \n",
      "\n",
      "   angle(tBodyAccMean,gravity)  angle(tBodyAccJerkMean),gravityMean)  \\\n",
      "0                    -0.112754                              0.030400   \n",
      "1                     0.053477                             -0.007435   \n",
      "2                    -0.118559                              0.177899   \n",
      "3                    -0.036788                             -0.012892   \n",
      "4                     0.123320                              0.122542   \n",
      "\n",
      "   angle(tBodyGyroMean,gravityMean)  angle(tBodyGyroJerkMean,gravityMean)  \\\n",
      "0                         -0.464761                             -0.018446   \n",
      "1                         -0.732626                              0.703511   \n",
      "2                          0.100699                              0.808529   \n",
      "3                          0.640011                             -0.485366   \n",
      "4                          0.693578                             -0.615971   \n",
      "\n",
      "   angle(X,gravityMean)  angle(Y,gravityMean)  angle(Z,gravityMean)  subject  \\\n",
      "0             -0.841247              0.179941             -0.058627        1   \n",
      "1             -0.844788              0.180289             -0.054317        1   \n",
      "2             -0.848933              0.180637             -0.049118        1   \n",
      "3             -0.848649              0.181935             -0.047663        1   \n",
      "4             -0.847865              0.185151             -0.043892        1   \n",
      "\n",
      "   Activity  \n",
      "0  STANDING  \n",
      "1  STANDING  \n",
      "2  STANDING  \n",
      "3  STANDING  \n",
      "4  STANDING  \n",
      "\n",
      "[5 rows x 563 columns]\n",
      "   tBodyAcc-mean()-X  tBodyAcc-mean()-Y  tBodyAcc-mean()-Z  tBodyAcc-std()-X  \\\n",
      "0           0.257178          -0.023285          -0.014654         -0.938404   \n",
      "1           0.286027          -0.013163          -0.119083         -0.975415   \n",
      "2           0.275485          -0.026050          -0.118152         -0.993819   \n",
      "3           0.270298          -0.032614          -0.117520         -0.994743   \n",
      "4           0.274833          -0.027848          -0.129527         -0.993852   \n",
      "\n",
      "   tBodyAcc-std()-Y  tBodyAcc-std()-Z  tBodyAcc-mad()-X  tBodyAcc-mad()-Y  \\\n",
      "0         -0.920091         -0.667683         -0.952501         -0.925249   \n",
      "1         -0.967458         -0.944958         -0.986799         -0.968401   \n",
      "2         -0.969926         -0.962748         -0.994403         -0.970735   \n",
      "3         -0.973268         -0.967091         -0.995274         -0.974471   \n",
      "4         -0.967445         -0.978295         -0.994111         -0.965953   \n",
      "\n",
      "   tBodyAcc-mad()-Z  tBodyAcc-max()-X  ...  fBodyBodyGyroJerkMag-kurtosis()  \\\n",
      "0         -0.674302         -0.894088  ...                        -0.705974   \n",
      "1         -0.945823         -0.894088  ...                        -0.594944   \n",
      "2         -0.963483         -0.939260  ...                        -0.640736   \n",
      "3         -0.968897         -0.938610  ...                        -0.736124   \n",
      "4         -0.977346         -0.938610  ...                        -0.846595   \n",
      "\n",
      "   angle(tBodyAccMean,gravity)  angle(tBodyAccJerkMean),gravityMean)  \\\n",
      "0                     0.006462                              0.162920   \n",
      "1                    -0.083495                              0.017500   \n",
      "2                    -0.034956                              0.202302   \n",
      "3                    -0.017067                              0.154438   \n",
      "4                    -0.002223                             -0.040046   \n",
      "\n",
      "   angle(tBodyGyroMean,gravityMean)  angle(tBodyGyroJerkMean,gravityMean)  \\\n",
      "0                         -0.825886                              0.271151   \n",
      "1                         -0.434375                              0.920593   \n",
      "2                          0.064103                              0.145068   \n",
      "3                          0.340134                              0.296407   \n",
      "4                          0.736715                             -0.118545   \n",
      "\n",
      "   angle(X,gravityMean)  angle(Y,gravityMean)  angle(Z,gravityMean)  subject  \\\n",
      "0             -0.720009              0.276801             -0.057978        2   \n",
      "1             -0.698091              0.281343             -0.083898        2   \n",
      "2             -0.702771              0.280083             -0.079346        2   \n",
      "3             -0.698954              0.284114             -0.077108        2   \n",
      "4             -0.692245              0.290722             -0.073857        2   \n",
      "\n",
      "   Activity  \n",
      "0  STANDING  \n",
      "1  STANDING  \n",
      "2  STANDING  \n",
      "3  STANDING  \n",
      "4  STANDING  \n",
      "\n",
      "[5 rows x 563 columns]\n"
     ]
    }
   ],
   "source": [
    "# Paths\n",
    "TRAIN_PATH = 'content/train.csv'\n",
    "TEST_PATH = 'content/test.csv'\n",
    "\n",
    "# Load the train and test data\n",
    "train_data = pd.read_csv(TRAIN_PATH)\n",
    "test_data = pd.read_csv(TEST_PATH)\n",
    "\n",
    "# Show the head of both of them\n",
    "print(train_data.head())\n",
    "print(test_data.head())"
   ]
  },
  {
   "cell_type": "code",
   "execution_count": 5,
   "id": "9c23be54",
   "metadata": {
    "execution": {
     "iopub.execute_input": "2025-05-23T13:56:40.466071Z",
     "iopub.status.busy": "2025-05-23T13:56:40.465664Z",
     "iopub.status.idle": "2025-05-23T13:56:40.492718Z",
     "shell.execute_reply": "2025-05-23T13:56:40.491771Z"
    },
    "papermill": {
     "duration": 0.031258,
     "end_time": "2025-05-23T13:56:40.494004",
     "exception": false,
     "start_time": "2025-05-23T13:56:40.462746",
     "status": "completed"
    },
    "tags": []
   },
   "outputs": [
    {
     "name": "stdout",
     "output_type": "stream",
     "text": [
      "X_train shape: (7352, 562)\n",
      "y_train shape: (7352,)\n",
      "X_test shape: (2947, 562)\n",
      "y_test shape: (2947,)\n"
     ]
    }
   ],
   "source": [
    "# Extract the Activity feature [Target] and labels from train and test datasets\n",
    "X_train = train_data.drop('Activity', axis=1)\n",
    "y_train = train_data['Activity']\n",
    "\n",
    "# Extract all features except the Activity [Target]\n",
    "X_test = test_data.drop('Activity', axis=1)\n",
    "y_test = test_data['Activity']\n",
    "\n",
    "# Shapes\n",
    "print(\"X_train shape:\", X_train.shape)\n",
    "print(\"y_train shape:\", y_train.shape)\n",
    "print(\"X_test shape:\", X_test.shape)\n",
    "print(\"y_test shape:\", y_test.shape)"
   ]
  },
  {
   "cell_type": "code",
   "execution_count": 6,
   "id": "7257aab7",
   "metadata": {
    "execution": {
     "iopub.execute_input": "2025-05-23T13:56:40.500849Z",
     "iopub.status.busy": "2025-05-23T13:56:40.500442Z",
     "iopub.status.idle": "2025-05-23T13:56:40.506905Z",
     "shell.execute_reply": "2025-05-23T13:56:40.506145Z"
    },
    "papermill": {
     "duration": 0.011553,
     "end_time": "2025-05-23T13:56:40.508029",
     "exception": false,
     "start_time": "2025-05-23T13:56:40.496476",
     "status": "completed"
    },
    "tags": []
   },
   "outputs": [
    {
     "name": "stdout",
     "output_type": "stream",
     "text": [
      "Encoded y_train: [2 2 2 2 2]\n"
     ]
    }
   ],
   "source": [
    "# Encode the [Target] feature\n",
    "label_encoder = LabelEncoder()\n",
    "\n",
    "y_train = label_encoder.fit_transform(y_train)\n",
    "y_test = label_encoder.transform(y_test)\n",
    "\n",
    "# Show first 5\n",
    "print(\"Encoded y_train:\", y_train[:5])"
   ]
  },
  {
   "cell_type": "code",
   "execution_count": 7,
   "id": "29c3a762",
   "metadata": {
    "execution": {
     "iopub.execute_input": "2025-05-23T13:56:40.513372Z",
     "iopub.status.busy": "2025-05-23T13:56:40.513153Z",
     "iopub.status.idle": "2025-05-23T13:56:40.616744Z",
     "shell.execute_reply": "2025-05-23T13:56:40.615685Z"
    },
    "papermill": {
     "duration": 0.10801,
     "end_time": "2025-05-23T13:56:40.618345",
     "exception": false,
     "start_time": "2025-05-23T13:56:40.510335",
     "status": "completed"
    },
    "tags": []
   },
   "outputs": [
    {
     "name": "stdout",
     "output_type": "stream",
     "text": [
      "Normalized X_train: [[0.64429225 0.48985291 0.43354743 ... 0.79825103 0.47068654 0.        ]\n",
      " [0.63920942 0.49179472 0.4382399  ... 0.79848665 0.47284164 0.        ]\n",
      " [0.63982653 0.49026642 0.44326915 ... 0.79872236 0.47544109 0.        ]\n",
      " [0.63958697 0.48689968 0.43835872 ... 0.79960011 0.47616841 0.        ]\n",
      " [0.63831439 0.49171517 0.44231908 ... 0.80177606 0.47805387 0.        ]]\n"
     ]
    }
   ],
   "source": [
    "# Normalize the features using MinMaxScaler\n",
    "scaler = MinMaxScaler()\n",
    "\n",
    "X_train = scaler.fit_transform(X_train)\n",
    "X_test = scaler.transform(X_test)\n",
    "\n",
    "# Show first 5\n",
    "print(\"Normalized X_train:\", X_train[:5])"
   ]
  },
  {
   "cell_type": "code",
   "execution_count": 8,
   "id": "36cbf521",
   "metadata": {
    "execution": {
     "iopub.execute_input": "2025-05-23T13:56:40.626854Z",
     "iopub.status.busy": "2025-05-23T13:56:40.625826Z",
     "iopub.status.idle": "2025-05-23T13:56:40.632425Z",
     "shell.execute_reply": "2025-05-23T13:56:40.631650Z"
    },
    "papermill": {
     "duration": 0.011523,
     "end_time": "2025-05-23T13:56:40.633487",
     "exception": false,
     "start_time": "2025-05-23T13:56:40.621964",
     "status": "completed"
    },
    "tags": []
   },
   "outputs": [
    {
     "name": "stdout",
     "output_type": "stream",
     "text": [
      "X_train_reshaped shape: (7352, 1, 562)\n",
      "X_test_reshaped shape: (2947, 1, 562)\n"
     ]
    }
   ],
   "source": [
    "# Reshape the input data for LSTM: (samples, time_steps = 1 {each feature is a time step}, features)\n",
    "X_train_reshaped = X_train.reshape((X_train.shape[0], 1, X_train.shape[1]))\n",
    "X_test_reshaped = X_test.reshape((X_test.shape[0], 1, X_test.shape[1]))\n",
    "\n",
    "# Show reshaped data\n",
    "print(\"X_train_reshaped shape:\", X_train_reshaped.shape)\n",
    "print(\"X_test_reshaped shape:\", X_test_reshaped.shape)"
   ]
  },
  {
   "cell_type": "code",
   "execution_count": 9,
   "id": "0f321ff8",
   "metadata": {
    "execution": {
     "iopub.execute_input": "2025-05-23T13:56:40.640563Z",
     "iopub.status.busy": "2025-05-23T13:56:40.640372Z",
     "iopub.status.idle": "2025-05-23T13:56:43.052755Z",
     "shell.execute_reply": "2025-05-23T13:56:43.052189Z"
    },
    "papermill": {
     "duration": 2.417101,
     "end_time": "2025-05-23T13:56:43.053868",
     "exception": false,
     "start_time": "2025-05-23T13:56:40.636767",
     "status": "completed"
    },
    "tags": []
   },
   "outputs": [
    {
     "name": "stderr",
     "output_type": "stream",
     "text": [
      "I0000 00:00:1748008601.728285      19 gpu_device.cc:2022] Created device /job:localhost/replica:0/task:0/device:GPU:0 with 13942 MB memory:  -> device: 0, name: Tesla T4, pci bus id: 0000:00:04.0, compute capability: 7.5\n",
      "I0000 00:00:1748008601.728937      19 gpu_device.cc:2022] Created device /job:localhost/replica:0/task:0/device:GPU:1 with 13942 MB memory:  -> device: 1, name: Tesla T4, pci bus id: 0000:00:05.0, compute capability: 7.5\n",
      "/usr/local/lib/python3.11/dist-packages/keras/src/layers/rnn/rnn.py:204: UserWarning: Do not pass an `input_shape`/`input_dim` argument to a layer. When using Sequential models, prefer using an `Input(shape)` object as the first layer in the model instead.\n",
      "  super().__init__(**kwargs)\n"
     ]
    },
    {
     "data": {
      "text/html": [
       "<pre style=\"white-space:pre;overflow-x:auto;line-height:normal;font-family:Menlo,'DejaVu Sans Mono',consolas,'Courier New',monospace\"><span style=\"font-weight: bold\">Model: \"sequential\"</span>\n",
       "</pre>\n"
      ],
      "text/plain": [
       "\u001b[1mModel: \"sequential\"\u001b[0m\n"
      ]
     },
     "metadata": {},
     "output_type": "display_data"
    },
    {
     "data": {
      "text/html": [
       "<pre style=\"white-space:pre;overflow-x:auto;line-height:normal;font-family:Menlo,'DejaVu Sans Mono',consolas,'Courier New',monospace\">┏━━━━━━━━━━━━━━━━━━━━━━━━━━━━━━━━━━━━━━┳━━━━━━━━━━━━━━━━━━━━━━━━━━━━━┳━━━━━━━━━━━━━━━━━┓\n",
       "┃<span style=\"font-weight: bold\"> Layer (type)                         </span>┃<span style=\"font-weight: bold\"> Output Shape                </span>┃<span style=\"font-weight: bold\">         Param # </span>┃\n",
       "┡━━━━━━━━━━━━━━━━━━━━━━━━━━━━━━━━━━━━━━╇━━━━━━━━━━━━━━━━━━━━━━━━━━━━━╇━━━━━━━━━━━━━━━━━┩\n",
       "│ lstm (<span style=\"color: #0087ff; text-decoration-color: #0087ff\">LSTM</span>)                          │ (<span style=\"color: #00d7ff; text-decoration-color: #00d7ff\">None</span>, <span style=\"color: #00af00; text-decoration-color: #00af00\">64</span>)                  │         <span style=\"color: #00af00; text-decoration-color: #00af00\">160,512</span> │\n",
       "├──────────────────────────────────────┼─────────────────────────────┼─────────────────┤\n",
       "│ dropout (<span style=\"color: #0087ff; text-decoration-color: #0087ff\">Dropout</span>)                    │ (<span style=\"color: #00d7ff; text-decoration-color: #00d7ff\">None</span>, <span style=\"color: #00af00; text-decoration-color: #00af00\">64</span>)                  │               <span style=\"color: #00af00; text-decoration-color: #00af00\">0</span> │\n",
       "├──────────────────────────────────────┼─────────────────────────────┼─────────────────┤\n",
       "│ dense (<span style=\"color: #0087ff; text-decoration-color: #0087ff\">Dense</span>)                        │ (<span style=\"color: #00d7ff; text-decoration-color: #00d7ff\">None</span>, <span style=\"color: #00af00; text-decoration-color: #00af00\">6</span>)                   │             <span style=\"color: #00af00; text-decoration-color: #00af00\">390</span> │\n",
       "└──────────────────────────────────────┴─────────────────────────────┴─────────────────┘\n",
       "</pre>\n"
      ],
      "text/plain": [
       "┏━━━━━━━━━━━━━━━━━━━━━━━━━━━━━━━━━━━━━━┳━━━━━━━━━━━━━━━━━━━━━━━━━━━━━┳━━━━━━━━━━━━━━━━━┓\n",
       "┃\u001b[1m \u001b[0m\u001b[1mLayer (type)                        \u001b[0m\u001b[1m \u001b[0m┃\u001b[1m \u001b[0m\u001b[1mOutput Shape               \u001b[0m\u001b[1m \u001b[0m┃\u001b[1m \u001b[0m\u001b[1m        Param #\u001b[0m\u001b[1m \u001b[0m┃\n",
       "┡━━━━━━━━━━━━━━━━━━━━━━━━━━━━━━━━━━━━━━╇━━━━━━━━━━━━━━━━━━━━━━━━━━━━━╇━━━━━━━━━━━━━━━━━┩\n",
       "│ lstm (\u001b[38;5;33mLSTM\u001b[0m)                          │ (\u001b[38;5;45mNone\u001b[0m, \u001b[38;5;34m64\u001b[0m)                  │         \u001b[38;5;34m160,512\u001b[0m │\n",
       "├──────────────────────────────────────┼─────────────────────────────┼─────────────────┤\n",
       "│ dropout (\u001b[38;5;33mDropout\u001b[0m)                    │ (\u001b[38;5;45mNone\u001b[0m, \u001b[38;5;34m64\u001b[0m)                  │               \u001b[38;5;34m0\u001b[0m │\n",
       "├──────────────────────────────────────┼─────────────────────────────┼─────────────────┤\n",
       "│ dense (\u001b[38;5;33mDense\u001b[0m)                        │ (\u001b[38;5;45mNone\u001b[0m, \u001b[38;5;34m6\u001b[0m)                   │             \u001b[38;5;34m390\u001b[0m │\n",
       "└──────────────────────────────────────┴─────────────────────────────┴─────────────────┘\n"
      ]
     },
     "metadata": {},
     "output_type": "display_data"
    },
    {
     "data": {
      "text/html": [
       "<pre style=\"white-space:pre;overflow-x:auto;line-height:normal;font-family:Menlo,'DejaVu Sans Mono',consolas,'Courier New',monospace\"><span style=\"font-weight: bold\"> Total params: </span><span style=\"color: #00af00; text-decoration-color: #00af00\">160,902</span> (628.52 KB)\n",
       "</pre>\n"
      ],
      "text/plain": [
       "\u001b[1m Total params: \u001b[0m\u001b[38;5;34m160,902\u001b[0m (628.52 KB)\n"
      ]
     },
     "metadata": {},
     "output_type": "display_data"
    },
    {
     "data": {
      "text/html": [
       "<pre style=\"white-space:pre;overflow-x:auto;line-height:normal;font-family:Menlo,'DejaVu Sans Mono',consolas,'Courier New',monospace\"><span style=\"font-weight: bold\"> Trainable params: </span><span style=\"color: #00af00; text-decoration-color: #00af00\">160,902</span> (628.52 KB)\n",
       "</pre>\n"
      ],
      "text/plain": [
       "\u001b[1m Trainable params: \u001b[0m\u001b[38;5;34m160,902\u001b[0m (628.52 KB)\n"
      ]
     },
     "metadata": {},
     "output_type": "display_data"
    },
    {
     "data": {
      "text/html": [
       "<pre style=\"white-space:pre;overflow-x:auto;line-height:normal;font-family:Menlo,'DejaVu Sans Mono',consolas,'Courier New',monospace\"><span style=\"font-weight: bold\"> Non-trainable params: </span><span style=\"color: #00af00; text-decoration-color: #00af00\">0</span> (0.00 B)\n",
       "</pre>\n"
      ],
      "text/plain": [
       "\u001b[1m Non-trainable params: \u001b[0m\u001b[38;5;34m0\u001b[0m (0.00 B)\n"
      ]
     },
     "metadata": {},
     "output_type": "display_data"
    }
   ],
   "source": [
    "# Build the LSTM model\n",
    "model = Sequential()\n",
    "\n",
    "# Add LSTM layers\n",
    "model.add(LSTM(64, input_shape=(X_train_reshaped.shape[1], X_train_reshaped.shape[2])))\n",
    "model.add(Dropout(0.5))  # Dropout to prevent overfitting\n",
    "model.add(Dense(6, activation='softmax'))  # 6 activities, using softmax for multi-class classification\n",
    "\n",
    "model.compile(optimizer='adam', loss='sparse_categorical_crossentropy', metrics=['accuracy'])\n",
    "\n",
    "model.summary()"
   ]
  },
  {
   "cell_type": "code",
   "execution_count": 10,
   "id": "1fc2012f",
   "metadata": {
    "execution": {
     "iopub.execute_input": "2025-05-23T13:56:43.060768Z",
     "iopub.status.busy": "2025-05-23T13:56:43.060548Z",
     "iopub.status.idle": "2025-05-23T13:56:51.753107Z",
     "shell.execute_reply": "2025-05-23T13:56:51.752348Z"
    },
    "papermill": {
     "duration": 8.69718,
     "end_time": "2025-05-23T13:56:51.754145",
     "exception": false,
     "start_time": "2025-05-23T13:56:43.056965",
     "status": "completed"
    },
    "tags": []
   },
   "outputs": [
    {
     "name": "stdout",
     "output_type": "stream",
     "text": [
      "Epoch 1/10\n"
     ]
    },
    {
     "name": "stderr",
     "output_type": "stream",
     "text": [
      "I0000 00:00:1748008605.441294      63 cuda_dnn.cc:529] Loaded cuDNN version 90300\n"
     ]
    },
    {
     "name": "stdout",
     "output_type": "stream",
     "text": [
      "\u001b[1m115/115\u001b[0m \u001b[32m━━━━━━━━━━━━━━━━━━━━\u001b[0m\u001b[37m\u001b[0m \u001b[1m4s\u001b[0m 6ms/step - accuracy: 0.5380 - loss: 1.1622 - val_accuracy: 0.8235 - val_loss: 0.4651\n",
      "Epoch 2/10\n",
      "\u001b[1m115/115\u001b[0m \u001b[32m━━━━━━━━━━━━━━━━━━━━\u001b[0m\u001b[37m\u001b[0m \u001b[1m0s\u001b[0m 4ms/step - accuracy: 0.8644 - loss: 0.3978 - val_accuracy: 0.9131 - val_loss: 0.2763\n",
      "Epoch 3/10\n",
      "\u001b[1m115/115\u001b[0m \u001b[32m━━━━━━━━━━━━━━━━━━━━\u001b[0m\u001b[37m\u001b[0m \u001b[1m0s\u001b[0m 4ms/step - accuracy: 0.9125 - loss: 0.2625 - val_accuracy: 0.8907 - val_loss: 0.2608\n",
      "Epoch 4/10\n",
      "\u001b[1m115/115\u001b[0m \u001b[32m━━━━━━━━━━━━━━━━━━━━\u001b[0m\u001b[37m\u001b[0m \u001b[1m0s\u001b[0m 4ms/step - accuracy: 0.9293 - loss: 0.2090 - val_accuracy: 0.8884 - val_loss: 0.2497\n",
      "Epoch 5/10\n",
      "\u001b[1m115/115\u001b[0m \u001b[32m━━━━━━━━━━━━━━━━━━━━\u001b[0m\u001b[37m\u001b[0m \u001b[1m0s\u001b[0m 4ms/step - accuracy: 0.9390 - loss: 0.1768 - val_accuracy: 0.9365 - val_loss: 0.1717\n",
      "Epoch 6/10\n",
      "\u001b[1m115/115\u001b[0m \u001b[32m━━━━━━━━━━━━━━━━━━━━\u001b[0m\u001b[37m\u001b[0m \u001b[1m0s\u001b[0m 4ms/step - accuracy: 0.9512 - loss: 0.1478 - val_accuracy: 0.9315 - val_loss: 0.1817\n",
      "Epoch 7/10\n",
      "\u001b[1m115/115\u001b[0m \u001b[32m━━━━━━━━━━━━━━━━━━━━\u001b[0m\u001b[37m\u001b[0m \u001b[1m0s\u001b[0m 4ms/step - accuracy: 0.9612 - loss: 0.1254 - val_accuracy: 0.9396 - val_loss: 0.1597\n",
      "Epoch 8/10\n",
      "\u001b[1m115/115\u001b[0m \u001b[32m━━━━━━━━━━━━━━━━━━━━\u001b[0m\u001b[37m\u001b[0m \u001b[1m0s\u001b[0m 4ms/step - accuracy: 0.9616 - loss: 0.1237 - val_accuracy: 0.9416 - val_loss: 0.1542\n",
      "Epoch 9/10\n",
      "\u001b[1m115/115\u001b[0m \u001b[32m━━━━━━━━━━━━━━━━━━━━\u001b[0m\u001b[37m\u001b[0m \u001b[1m0s\u001b[0m 4ms/step - accuracy: 0.9682 - loss: 0.0996 - val_accuracy: 0.9416 - val_loss: 0.1486\n",
      "Epoch 10/10\n",
      "\u001b[1m115/115\u001b[0m \u001b[32m━━━━━━━━━━━━━━━━━━━━\u001b[0m\u001b[37m\u001b[0m \u001b[1m0s\u001b[0m 4ms/step - accuracy: 0.9672 - loss: 0.1009 - val_accuracy: 0.9457 - val_loss: 0.1460\n",
      "\u001b[1m93/93\u001b[0m \u001b[32m━━━━━━━━━━━━━━━━━━━━\u001b[0m\u001b[37m\u001b[0m \u001b[1m0s\u001b[0m 2ms/step - accuracy: 0.9374 - loss: 0.1587\n",
      "Test Loss: 0.1460\n",
      "Test Accuracy: 0.9457\n"
     ]
    }
   ],
   "source": [
    "# Train the model\n",
    "history = model.fit(X_train_reshaped, y_train, epochs=10, batch_size=64, validation_data=(X_test_reshaped, y_test))\n",
    "\n",
    "# Try the model\n",
    "test_loss, test_accuracy = model.evaluate(X_test_reshaped, y_test)\n",
    "print(f\"Test Loss: {test_loss:.4f}\")\n",
    "print(f\"Test Accuracy: {test_accuracy:.4f}\")"
   ]
  },
  {
   "cell_type": "code",
   "execution_count": 11,
   "id": "7274d917",
   "metadata": {
    "execution": {
     "iopub.execute_input": "2025-05-23T13:56:51.769157Z",
     "iopub.status.busy": "2025-05-23T13:56:51.768481Z",
     "iopub.status.idle": "2025-05-23T13:56:51.968269Z",
     "shell.execute_reply": "2025-05-23T13:56:51.967563Z"
    },
    "papermill": {
     "duration": 0.208152,
     "end_time": "2025-05-23T13:56:51.969430",
     "exception": false,
     "start_time": "2025-05-23T13:56:51.761278",
     "status": "completed"
    },
    "tags": []
   },
   "outputs": [
    {
     "data": {
      "image/png": "[encoded data removed]",
      "text/plain": [
       "<Figure size 640x480 with 1 Axes>"
      ]
     },
     "metadata": {},
     "output_type": "display_data"
    }
   ],
   "source": [
    "# Plot training vs validation accuracy\n",
    "plt.plot(history.history['accuracy'], label='Train Accuracy')\n",
    "plt.plot(history.history['val_accuracy'], label='Test Accuracy')\n",
    "plt.xlabel('Epochs')\n",
    "plt.ylabel('Accuracy')\n",
    "plt.legend()\n",
    "plt.show()"
   ]
  }
 ],
 "metadata": {
  "kaggle": {
   "accelerator": "nvidiaTeslaT4",
   "dataSources": [
    {
     "datasetId": 226,
     "sourceId": 793070,
     "sourceType": "datasetVersion"
    }
   ],
   "dockerImageVersionId": 31011,
   "isGpuEnabled": true,
   "isInternetEnabled": true,
   "language": "python",
   "sourceType": "notebook"
  },
  "kernelspec": {
   "display_name": "Python 3",
   "language": "python",
   "name": "python3"
  },
  "language_info": {
   "codemirror_mode": {
    "name": "ipython",
    "version": 3
   },
   "file_extension": ".py",
   "mimetype": "text/x-python",
   "name": "python",
   "nbconvert_exporter": "python",
   "pygments_lexer": "ipython3",
   "version": "3.11.11"
  },
  "papermill": {
   "default_parameters": {},
   "duration": 35.292967,
   "end_time": "2025-05-23T13:56:55.193898",
   "environment_variables": {},
   "exception": null,
   "input_path": "__notebook__.ipynb",
   "output_path": "__notebook__.ipynb",
   "parameters": {},
   "start_time": "2025-05-23T13:56:19.900931",
   "version": "2.6.0"
  }
 },
 "nbformat": 4,
 "nbformat_minor": 5
}
